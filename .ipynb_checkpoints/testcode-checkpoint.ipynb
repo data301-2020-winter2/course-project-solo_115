{
 "cells": [
  {
   "cell_type": "code",
   "execution_count": 32,
   "id": "accredited-dimension",
   "metadata": {},
   "outputs": [
    {
     "ename": "AttributeError",
     "evalue": "module 'pandas' has no attribute 'sort'",
     "output_type": "error",
     "traceback": [
      "\u001b[1;31m---------------------------------------------------------------------------\u001b[0m",
      "\u001b[1;31mAttributeError\u001b[0m                            Traceback (most recent call last)",
      "\u001b[1;32m<ipython-input-32-f18d3da190dd>\u001b[0m in \u001b[0;36m<module>\u001b[1;34m\u001b[0m\n\u001b[0;32m     22\u001b[0m \u001b[0mdf\u001b[0m\u001b[1;33m[\u001b[0m\u001b[1;34m'Avg. Media and Ampicillin (3h)'\u001b[0m\u001b[1;33m]\u001b[0m \u001b[1;33m=\u001b[0m \u001b[0mcol3\u001b[0m\u001b[1;33m.\u001b[0m\u001b[0mmean\u001b[0m\u001b[1;33m(\u001b[0m\u001b[0maxis\u001b[0m\u001b[1;33m=\u001b[0m\u001b[1;36m1\u001b[0m\u001b[1;33m)\u001b[0m\u001b[1;33m\u001b[0m\u001b[1;33m\u001b[0m\u001b[0m\n\u001b[0;32m     23\u001b[0m \u001b[1;31m#function 3\u001b[0m\u001b[1;33m\u001b[0m\u001b[1;33m\u001b[0m\u001b[1;33m\u001b[0m\u001b[0m\n\u001b[1;32m---> 24\u001b[1;33m \u001b[0mdf2\u001b[0m \u001b[1;33m=\u001b[0m \u001b[0mpd\u001b[0m\u001b[1;33m.\u001b[0m\u001b[0msort\u001b[0m\u001b[1;33m(\u001b[0m\u001b[1;34m\"Avg. Media and Ampicillin (3h)\"\u001b[0m\u001b[1;33m,\u001b[0m \u001b[0mascending\u001b[0m\u001b[1;33m=\u001b[0m\u001b[1;32mFalse\u001b[0m\u001b[1;33m)\u001b[0m\u001b[1;33m\u001b[0m\u001b[1;33m\u001b[0m\u001b[0m\n\u001b[0m\u001b[0;32m     25\u001b[0m \u001b[0mdf2\u001b[0m\u001b[1;33m\u001b[0m\u001b[1;33m\u001b[0m\u001b[0m\n\u001b[0;32m     26\u001b[0m \u001b[1;33m\u001b[0m\u001b[0m\n",
      "\u001b[1;32m~\\miniconda3\\lib\\site-packages\\pandas\\__init__.py\u001b[0m in \u001b[0;36m__getattr__\u001b[1;34m(name)\u001b[0m\n\u001b[0;32m    242\u001b[0m         \u001b[1;32mreturn\u001b[0m \u001b[0m_SparseArray\u001b[0m\u001b[1;33m\u001b[0m\u001b[1;33m\u001b[0m\u001b[0m\n\u001b[0;32m    243\u001b[0m \u001b[1;33m\u001b[0m\u001b[0m\n\u001b[1;32m--> 244\u001b[1;33m     \u001b[1;32mraise\u001b[0m \u001b[0mAttributeError\u001b[0m\u001b[1;33m(\u001b[0m\u001b[1;34mf\"module 'pandas' has no attribute '{name}'\"\u001b[0m\u001b[1;33m)\u001b[0m\u001b[1;33m\u001b[0m\u001b[1;33m\u001b[0m\u001b[0m\n\u001b[0m\u001b[0;32m    245\u001b[0m \u001b[1;33m\u001b[0m\u001b[0m\n\u001b[0;32m    246\u001b[0m \u001b[1;33m\u001b[0m\u001b[0m\n",
      "\u001b[1;31mAttributeError\u001b[0m: module 'pandas' has no attribute 'sort'"
     ]
    }
   ],
   "source": [
    "import pandas as pd\n",
    "import numpy as np\n",
    "\n",
    "data = pd.read_excel(r'data/raw/data.xlsx')\n",
    "#function1\n",
    "df = ( pd.DataFrame(data=data)\n",
    "      .drop(columns=['locus_tag'])\n",
    "      .rename(columns={\"Name\":\"Gene Name\", \"gene\":\"Gene Symbol\", \"Stationary rep1\":\"Stationary Phase Group 1\", \n",
    "                       \"Stationary rep2\":\"Stationary Phase Group 2\", \"Stationary rep3\":\"Stationary Phase Group 3\", \n",
    "                      \"3h fresh media rep1\":\"Growth in Media (3h) Group 1\", \"3h fresh media rep2\":\"Growth in Media (3h) Group 2\",\n",
    "                      \"3h fresh media rep3\":\"Growth in Media (3h) Group 3\", \"3h amp media rep1\":\"Media and Ampicillin (3h) Group 1\",\n",
    "                      \"3h amp media rep2\":\"Media and Ampicillin (3h) Group 2\", \"3h amp media rep3\":\"Media and Ampicillin (3h) Group 3\"})\n",
    "     )\n",
    "#function2\n",
    "col = df.loc[: , \"Stationary Phase Group 1\":\"Stationary Phase Group 3\"]\n",
    "df['Avg. Stationary Phase'] = col.mean(axis=1) \n",
    "\n",
    "col2 = df.loc[: , \"Growth in Media (3h) Group 1\":\"Growth in Media (3h) Group 3\"]\n",
    "df['Avg. Growth in Media (3h)'] = col2.mean(axis=1) \n",
    "\n",
    "col3 = df.loc[: , \"Media and Ampicillin (3h) Group 1\":\"Media and Ampicillin (3h) Group 3\"]\n",
    "df['Avg. Media and Ampicillin (3h)'] = col3.mean(axis=1) \n",
    "#function 3\n",
    "df2 = pd.sort_values(\"Avg. Media and Ampicillin (3h)\", ascending=False)\n",
    "df2\n",
    "\n",
    "    \n",
    "# df.style.set_caption('Gene expression in E. coli under three conditions - stationary phase Control, media only control, and treated samples in triplicate.')\n",
    "\n",
    "# meantest = df[[\"Stationary rep1\", \"Stationary rep2\", \"Stationary rep3\"]].mean(axis=1)\n",
    "# meantest\n",
    "\n",
    "#def load_process(df):\n",
    " #   pass\n",
    "  #  data = pd.DataFrame(data.data)\n",
    "    #data[[\"A\", \"B\"]].mean(axis=1)\n",
    "   # return data \n",
    "\n"
   ]
  },
  {
   "cell_type": "code",
   "execution_count": null,
   "id": "absent-explanation",
   "metadata": {},
   "outputs": [],
   "source": [
    "data = pd.read_excel(r'data/raw/data.xlsx')\n",
    "print(data)"
   ]
  },
  {
   "cell_type": "code",
   "execution_count": null,
   "id": "framed-tender",
   "metadata": {},
   "outputs": [],
   "source": []
  }
 ],
 "metadata": {
  "kernelspec": {
   "display_name": "Python 3",
   "language": "python",
   "name": "python3"
  },
  "language_info": {
   "codemirror_mode": {
    "name": "ipython",
    "version": 3
   },
   "file_extension": ".py",
   "mimetype": "text/x-python",
   "name": "python",
   "nbconvert_exporter": "python",
   "pygments_lexer": "ipython3",
   "version": "3.8.5"
  }
 },
 "nbformat": 4,
 "nbformat_minor": 5
}
