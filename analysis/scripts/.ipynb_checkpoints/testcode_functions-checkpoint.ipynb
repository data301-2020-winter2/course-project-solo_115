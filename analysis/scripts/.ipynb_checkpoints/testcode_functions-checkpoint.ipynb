{
 "cells": [
  {
   "cell_type": "code",
   "execution_count": 3,
   "id": "collect-mississippi",
   "metadata": {},
   "outputs": [
    {
     "ename": "NameError",
     "evalue": "name 'df' is not defined",
     "output_type": "error",
     "traceback": [
      "\u001b[1;31m---------------------------------------------------------------------------\u001b[0m",
      "\u001b[1;31mNameError\u001b[0m                                 Traceback (most recent call last)",
      "\u001b[1;32m<ipython-input-3-595e1cc221b9>\u001b[0m in \u001b[0;36m<module>\u001b[1;34m\u001b[0m\n\u001b[0;32m     17\u001b[0m \u001b[1;33m\u001b[0m\u001b[0m\n\u001b[0;32m     18\u001b[0m     \u001b[1;31m#function2\u001b[0m\u001b[1;33m\u001b[0m\u001b[1;33m\u001b[0m\u001b[1;33m\u001b[0m\u001b[0m\n\u001b[1;32m---> 19\u001b[1;33m \u001b[0mcol\u001b[0m \u001b[1;33m=\u001b[0m \u001b[0mdf\u001b[0m\u001b[1;33m.\u001b[0m\u001b[0mloc\u001b[0m\u001b[1;33m[\u001b[0m\u001b[1;33m:\u001b[0m \u001b[1;33m,\u001b[0m \u001b[1;34m\"Stationary Phase Group 1\"\u001b[0m\u001b[1;33m:\u001b[0m\u001b[1;34m\"Stationary Phase Group 3\"\u001b[0m\u001b[1;33m]\u001b[0m\u001b[1;33m\u001b[0m\u001b[1;33m\u001b[0m\u001b[0m\n\u001b[0m\u001b[0;32m     20\u001b[0m \u001b[0mdf\u001b[0m\u001b[1;33m[\u001b[0m\u001b[1;34m'Avg. Stationary Phase'\u001b[0m\u001b[1;33m]\u001b[0m \u001b[1;33m=\u001b[0m \u001b[0mcol\u001b[0m\u001b[1;33m.\u001b[0m\u001b[0mmean\u001b[0m\u001b[1;33m(\u001b[0m\u001b[0maxis\u001b[0m\u001b[1;33m=\u001b[0m\u001b[1;36m1\u001b[0m\u001b[1;33m)\u001b[0m\u001b[1;33m\u001b[0m\u001b[1;33m\u001b[0m\u001b[0m\n\u001b[0;32m     21\u001b[0m \u001b[1;33m\u001b[0m\u001b[0m\n",
      "\u001b[1;31mNameError\u001b[0m: name 'df' is not defined"
     ]
    }
   ],
   "source": [
    "import pandas as pd\n",
    "import numpy as np\n",
    "\n",
    "data = pd.read_excel('data.xlsx')\n",
    "\n",
    "def load_and_process(data):\n",
    "    #function1\n",
    "    df = ( pd.DataFrame(data=data)\n",
    "    .drop(columns=['locus_tag'])\n",
    "    .rename(columns={\"Name\":\"Gene Name\", \"gene\":\"Gene Symbol\", \"Stationary rep1\":\"Stationary Phase Group 1\", \n",
    "                           \"Stationary rep2\":\"Stationary Phase Group 2\", \"Stationary rep3\":\"Stationary Phase Group 3\", \n",
    "                          \"3h fresh media rep1\":\"Growth in Media (3h) Group 1\", \"3h fresh media rep2\":\"Growth in Media (3h) Group 2\",\n",
    "                          \"3h fresh media rep3\":\"Growth in Media (3h) Group 3\", \"3h amp media rep1\":\"Media and Ampicillin (3h) Group 1\",\n",
    "                          \"3h amp media rep2\":\"Media and Ampicillin (3h) Group 2\", \"3h amp media rep3\":\"Media and Ampicillin (3h) Group 3\"})\n",
    "    )\n",
    "    return df\n",
    "    \n",
    "    #function2\n",
    "col = df.loc[: , \"Stationary Phase Group 1\":\"Stationary Phase Group 3\"]\n",
    "df['Avg. Stationary Phase'] = col.mean(axis=1) \n",
    "\n",
    "col2 = df.loc[: , \"Growth in Media (3h) Group 1\":\"Growth in Media (3h) Group 3\"]\n",
    "df['Avg. Growth in Media (3h)'] = col2.mean(axis=1) \n",
    "\n",
    "col3 = df.loc[: , \"Media and Ampicillin (3h) Group 1\":\"Media and Ampicillin (3h) Group 3\"]\n",
    "df['Avg. Media and Ampicillin (3h)'] = col3.mean(axis=1) \n",
    "\n",
    "def load_and_process(data):\n",
    "    #function 3\n",
    "    df2 = ( pd.DataFrame(data=df)\n",
    "    .sort_values(\"Avg. Media and Ampicillin (3h)\", ascending=False) \n",
    "    .drop(columns=[\"Stationary Phase Group 1\", \"Stationary Phase Group 2\", \"Stationary Phase Group 3\", \n",
    "                      \"Growth in Media (3h) Group 1\", \"Growth in Media (3h) Group 2\", \"Growth in Media (3h) Group 3\",\n",
    "                      \"Media and Ampicillin (3h) Group 1\", \"Media and Ampicillin (3h) Group 2\", \"Media and Ampicillin (3h) Group 3\"]) )\n",
    "    return df2\n",
    "\n",
    "df3 = df2.style.set_caption('Gene expression in E. coli under three conditions - stationary phase control, media only control, and treated samples in triplicate.')\n",
    "\n",
    "df3\n"
   ]
  },
  {
   "cell_type": "code",
   "execution_count": null,
   "id": "cooked-contrary",
   "metadata": {},
   "outputs": [],
   "source": []
  }
 ],
 "metadata": {
  "kernelspec": {
   "display_name": "Python 3",
   "language": "python",
   "name": "python3"
  },
  "language_info": {
   "codemirror_mode": {
    "name": "ipython",
    "version": 3
   },
   "file_extension": ".py",
   "mimetype": "text/x-python",
   "name": "python",
   "nbconvert_exporter": "python",
   "pygments_lexer": "ipython3",
   "version": "3.8.5"
  }
 },
 "nbformat": 4,
 "nbformat_minor": 5
}
