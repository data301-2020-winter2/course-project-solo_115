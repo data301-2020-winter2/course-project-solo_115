{
 "cells": [
  {
   "cell_type": "markdown",
   "id": "thick-relative",
   "metadata": {},
   "source": [
    "## Introduction"
   ]
  },
  {
   "cell_type": "markdown",
   "id": "silver-hawaiian",
   "metadata": {},
   "source": [
    "Exploration of the gene expression dataset obtained by RNA sequencing of the three replicates for *E. coli* now averaged for the stationary phase, growth media phase, and growth media with ampicillin treatment. Here I will perform exploratory data analysis to visualize the dataset, determine if additional data cleaning is required before analysis, and decide the best route for data analysis in Task 5. Ultimately I want to address my research question: what genes are upregulated or downregulated when *E. coli* is treated with ampicillin compared to the control?\n",
    "***"
   ]
  },
  {
   "cell_type": "markdown",
   "id": "infrared-project",
   "metadata": {},
   "source": [
    "## Exploratory Data Analysis"
   ]
  },
  {
   "cell_type": "markdown",
   "id": "early-chance",
   "metadata": {},
   "source": [
    "**Step one:** Bring in the clean data from Task 3, the project fucntions file, to explore."
   ]
  },
  {
   "cell_type": "code",
   "execution_count": 6,
   "id": "narrative-dividend",
   "metadata": {},
   "outputs": [
    {
     "data": {
      "text/html": [
       "<div>\n",
       "<style scoped>\n",
       "    .dataframe tbody tr th:only-of-type {\n",
       "        vertical-align: middle;\n",
       "    }\n",
       "\n",
       "    .dataframe tbody tr th {\n",
       "        vertical-align: top;\n",
       "    }\n",
       "\n",
       "    .dataframe thead th {\n",
       "        text-align: right;\n",
       "    }\n",
       "</style>\n",
       "<table border=\"1\" class=\"dataframe\">\n",
       "  <thead>\n",
       "    <tr style=\"text-align: right;\">\n",
       "      <th></th>\n",
       "      <th>Gene Name</th>\n",
       "      <th>Gene Symbol</th>\n",
       "      <th>Avg. Stationary Phase</th>\n",
       "      <th>Avg. Growth in Media (3h)</th>\n",
       "      <th>Avg. Media and Ampicillin (3h)</th>\n",
       "    </tr>\n",
       "  </thead>\n",
       "  <tbody>\n",
       "    <tr>\n",
       "      <th>0</th>\n",
       "      <td>Km CDS</td>\n",
       "      <td>Km</td>\n",
       "      <td>10034.666667</td>\n",
       "      <td>753163.000000</td>\n",
       "      <td>4.010489e+06</td>\n",
       "    </tr>\n",
       "    <tr>\n",
       "      <th>1</th>\n",
       "      <td>cfp CDS</td>\n",
       "      <td>cfp</td>\n",
       "      <td>4188.000000</td>\n",
       "      <td>149442.333333</td>\n",
       "      <td>1.227688e+06</td>\n",
       "    </tr>\n",
       "    <tr>\n",
       "      <th>1403</th>\n",
       "      <td>katG CDS</td>\n",
       "      <td>katG</td>\n",
       "      <td>391.666667</td>\n",
       "      <td>338160.833333</td>\n",
       "      <td>6.855638e+05</td>\n",
       "    </tr>\n",
       "    <tr>\n",
       "      <th>1896</th>\n",
       "      <td>ompA CDS</td>\n",
       "      <td>ompA</td>\n",
       "      <td>525.666667</td>\n",
       "      <td>170523.166667</td>\n",
       "      <td>3.269718e+05</td>\n",
       "    </tr>\n",
       "    <tr>\n",
       "      <th>69</th>\n",
       "      <td>ahpF CDS</td>\n",
       "      <td>ahpF</td>\n",
       "      <td>182.333333</td>\n",
       "      <td>194604.833333</td>\n",
       "      <td>2.945845e+05</td>\n",
       "    </tr>\n",
       "    <tr>\n",
       "      <th>...</th>\n",
       "      <td>...</td>\n",
       "      <td>...</td>\n",
       "      <td>...</td>\n",
       "      <td>...</td>\n",
       "      <td>...</td>\n",
       "    </tr>\n",
       "    <tr>\n",
       "      <th>4061</th>\n",
       "      <td>ykgV CDS</td>\n",
       "      <td>ykgV</td>\n",
       "      <td>0.000000</td>\n",
       "      <td>0.000000</td>\n",
       "      <td>0.000000e+00</td>\n",
       "    </tr>\n",
       "    <tr>\n",
       "      <th>4071</th>\n",
       "      <td>ylcG CDS</td>\n",
       "      <td>ylcG</td>\n",
       "      <td>0.000000</td>\n",
       "      <td>0.000000</td>\n",
       "      <td>0.000000e+00</td>\n",
       "    </tr>\n",
       "    <tr>\n",
       "      <th>4072</th>\n",
       "      <td>ylcH CDS</td>\n",
       "      <td>ylcH</td>\n",
       "      <td>0.000000</td>\n",
       "      <td>0.000000</td>\n",
       "      <td>0.000000e+00</td>\n",
       "    </tr>\n",
       "    <tr>\n",
       "      <th>3588</th>\n",
       "      <td>yffL CDS</td>\n",
       "      <td>yffL</td>\n",
       "      <td>0.000000</td>\n",
       "      <td>0.000000</td>\n",
       "      <td>0.000000e+00</td>\n",
       "    </tr>\n",
       "    <tr>\n",
       "      <th>2996</th>\n",
       "      <td>yagH CDS</td>\n",
       "      <td>yagH</td>\n",
       "      <td>0.000000</td>\n",
       "      <td>0.000000</td>\n",
       "      <td>0.000000e+00</td>\n",
       "    </tr>\n",
       "  </tbody>\n",
       "</table>\n",
       "<p>4359 rows × 5 columns</p>\n",
       "</div>"
      ],
      "text/plain": [
       "     Gene Name Gene Symbol  Avg. Stationary Phase  Avg. Growth in Media (3h)  \\\n",
       "0       Km CDS          Km           10034.666667              753163.000000   \n",
       "1      cfp CDS         cfp            4188.000000              149442.333333   \n",
       "1403  katG CDS        katG             391.666667              338160.833333   \n",
       "1896  ompA CDS        ompA             525.666667              170523.166667   \n",
       "69    ahpF CDS        ahpF             182.333333              194604.833333   \n",
       "...        ...         ...                    ...                        ...   \n",
       "4061  ykgV CDS        ykgV               0.000000                   0.000000   \n",
       "4071  ylcG CDS        ylcG               0.000000                   0.000000   \n",
       "4072  ylcH CDS        ylcH               0.000000                   0.000000   \n",
       "3588  yffL CDS        yffL               0.000000                   0.000000   \n",
       "2996  yagH CDS        yagH               0.000000                   0.000000   \n",
       "\n",
       "      Avg. Media and Ampicillin (3h)  \n",
       "0                       4.010489e+06  \n",
       "1                       1.227688e+06  \n",
       "1403                    6.855638e+05  \n",
       "1896                    3.269718e+05  \n",
       "69                      2.945845e+05  \n",
       "...                              ...  \n",
       "4061                    0.000000e+00  \n",
       "4071                    0.000000e+00  \n",
       "4072                    0.000000e+00  \n",
       "3588                    0.000000e+00  \n",
       "2996                    0.000000e+00  \n",
       "\n",
       "[4359 rows x 5 columns]"
      ]
     },
     "execution_count": 6,
     "metadata": {},
     "output_type": "execute_result"
    }
   ],
   "source": [
    "import pandas as pd\n",
    "import os\n",
    "\n",
    "os.chdir('C:/Users/eilee/course-project-solo_115')\n",
    "\n",
    "from scripts import project_functions\n",
    "data = pd.read_excel(r'data/raw/data.xlsx')\n",
    "df = project_functions.load_and_process(data)\n",
    "df"
   ]
  },
  {
   "cell_type": "markdown",
   "id": "hourly-double",
   "metadata": {},
   "source": [
    "## Dataset"
   ]
  },
  {
   "cell_type": "markdown",
   "id": "affiliated-thesis",
   "metadata": {},
   "source": [
    "This dataset contains the averaged gene expression levels in *E coli* measured using RNA sequencing under three conditions - stationary phase (column 3), growth media (column 4), and growth media with ampicillin treatment (column 5). The name of the gene sequence is in column 1 and its symbol is in column 2. Rows represent measured RNA sequencing values otherwise known as the gene expression level. \n",
    "***"
   ]
  },
  {
   "cell_type": "markdown",
   "id": "specialized-desire",
   "metadata": {},
   "source": [
    "**Step two:** Proceeding with the exploratory analysis starting with checking gneral information such as rows, columns, statistics, etc. to get a well rounded look at the dataset. "
   ]
  },
  {
   "cell_type": "code",
   "execution_count": 10,
   "id": "independent-metropolitan",
   "metadata": {},
   "outputs": [
    {
     "name": "stdout",
     "output_type": "stream",
     "text": [
      "<class 'pandas.core.frame.DataFrame'>\n",
      "Int64Index: 4359 entries, 0 to 2996\n",
      "Data columns (total 5 columns):\n",
      " #   Column                          Non-Null Count  Dtype  \n",
      "---  ------                          --------------  -----  \n",
      " 0   Gene Name                       4359 non-null   object \n",
      " 1   Gene Symbol                     4359 non-null   object \n",
      " 2   Avg. Stationary Phase           4359 non-null   float64\n",
      " 3   Avg. Growth in Media (3h)       4359 non-null   float64\n",
      " 4   Avg. Media and Ampicillin (3h)  4359 non-null   float64\n",
      "dtypes: float64(3), object(2)\n",
      "memory usage: 204.3+ KB\n"
     ]
    },
    {
     "data": {
      "text/html": [
       "<div>\n",
       "<style scoped>\n",
       "    .dataframe tbody tr th:only-of-type {\n",
       "        vertical-align: middle;\n",
       "    }\n",
       "\n",
       "    .dataframe tbody tr th {\n",
       "        vertical-align: top;\n",
       "    }\n",
       "\n",
       "    .dataframe thead th {\n",
       "        text-align: right;\n",
       "    }\n",
       "</style>\n",
       "<table border=\"1\" class=\"dataframe\">\n",
       "  <thead>\n",
       "    <tr style=\"text-align: right;\">\n",
       "      <th></th>\n",
       "      <th>Avg. Stationary Phase</th>\n",
       "      <th>Avg. Growth in Media (3h)</th>\n",
       "      <th>Avg. Media and Ampicillin (3h)</th>\n",
       "    </tr>\n",
       "  </thead>\n",
       "  <tbody>\n",
       "    <tr>\n",
       "      <th>count</th>\n",
       "      <td>4359.000000</td>\n",
       "      <td>4359.000000</td>\n",
       "      <td>4.359000e+03</td>\n",
       "    </tr>\n",
       "    <tr>\n",
       "      <th>mean</th>\n",
       "      <td>23.307714</td>\n",
       "      <td>3193.121513</td>\n",
       "      <td>5.759521e+03</td>\n",
       "    </tr>\n",
       "    <tr>\n",
       "      <th>std</th>\n",
       "      <td>183.156575</td>\n",
       "      <td>15537.988270</td>\n",
       "      <td>6.603072e+04</td>\n",
       "    </tr>\n",
       "    <tr>\n",
       "      <th>min</th>\n",
       "      <td>0.000000</td>\n",
       "      <td>0.000000</td>\n",
       "      <td>0.000000e+00</td>\n",
       "    </tr>\n",
       "    <tr>\n",
       "      <th>25%</th>\n",
       "      <td>3.666667</td>\n",
       "      <td>512.833333</td>\n",
       "      <td>4.785833e+02</td>\n",
       "    </tr>\n",
       "    <tr>\n",
       "      <th>50%</th>\n",
       "      <td>7.500000</td>\n",
       "      <td>1065.833333</td>\n",
       "      <td>1.106500e+03</td>\n",
       "    </tr>\n",
       "    <tr>\n",
       "      <th>75%</th>\n",
       "      <td>14.833333</td>\n",
       "      <td>2070.583333</td>\n",
       "      <td>2.768667e+03</td>\n",
       "    </tr>\n",
       "    <tr>\n",
       "      <th>max</th>\n",
       "      <td>10034.666667</td>\n",
       "      <td>753163.000000</td>\n",
       "      <td>4.010489e+06</td>\n",
       "    </tr>\n",
       "  </tbody>\n",
       "</table>\n",
       "</div>"
      ],
      "text/plain": [
       "       Avg. Stationary Phase  Avg. Growth in Media (3h)  \\\n",
       "count            4359.000000                4359.000000   \n",
       "mean               23.307714                3193.121513   \n",
       "std               183.156575               15537.988270   \n",
       "min                 0.000000                   0.000000   \n",
       "25%                 3.666667                 512.833333   \n",
       "50%                 7.500000                1065.833333   \n",
       "75%                14.833333                2070.583333   \n",
       "max             10034.666667              753163.000000   \n",
       "\n",
       "       Avg. Media and Ampicillin (3h)  \n",
       "count                    4.359000e+03  \n",
       "mean                     5.759521e+03  \n",
       "std                      6.603072e+04  \n",
       "min                      0.000000e+00  \n",
       "25%                      4.785833e+02  \n",
       "50%                      1.106500e+03  \n",
       "75%                      2.768667e+03  \n",
       "max                      4.010489e+06  "
      ]
     },
     "execution_count": 10,
     "metadata": {},
     "output_type": "execute_result"
    }
   ],
   "source": [
    "len(df. columns) # number of columns\n",
    "len(df.index) # number or rows\n",
    "\n",
    "df.info() \n",
    "df.describe() #stats"
   ]
  },
  {
   "cell_type": "markdown",
   "id": "random-parks",
   "metadata": {},
   "source": [
    "**Description**"
   ]
  },
  {
   "cell_type": "markdown",
   "id": "empirical-gospel",
   "metadata": {},
   "source": [
    "Here we see that there are 4359 gene expression values over the three treatment conditions in *E. coli*. Additionally, the small mean of 23.31 expression level during the stationary phase indicates that there is likely little gene expression occurring at this time. This makes sense as the cells are not growing or increasing in number during this phase. The mean is much higher in the growth media phase at 3193.12 expression level as the cells increase in number. But even higher still is during the ampicillin treatment at 5.76x10^3 expression level as *E. coli* must now defend itself against the antibiotic.  \n",
    "***"
   ]
  },
  {
   "cell_type": "markdown",
   "id": "statutory-edition",
   "metadata": {},
   "source": [
    "**Step 3:** visualizing the data with a histogram to look at distribution and determine if the data is skewed and requires further processing before data analysis. "
   ]
  },
  {
   "cell_type": "code",
   "execution_count": 11,
   "id": "capable-japanese",
   "metadata": {},
   "outputs": [
    {
     "data": {
      "text/plain": [
       "array([[<AxesSubplot:title={'center':'Avg. Stationary Phase'}>,\n",
       "        <AxesSubplot:title={'center':'Avg. Growth in Media (3h)'}>],\n",
       "       [<AxesSubplot:title={'center':'Avg. Media and Ampicillin (3h)'}>,\n",
       "        <AxesSubplot:>]], dtype=object)"
      ]
     },
     "execution_count": 11,
     "metadata": {},
     "output_type": "execute_result"
    },
    {
     "data": {
      "image/png": "[encoded data removed]",
      "text/plain": [
       "<Figure size 720x720 with 4 Axes>"
      ]
     },
     "metadata": {
      "needs_background": "light"
     },
     "output_type": "display_data"
    }
   ],
   "source": [
    "hist = df.hist(bins=5,figsize =(10,10))\n",
    "hist"
   ]
  },
  {
   "cell_type": "markdown",
   "id": "liable-oxford",
   "metadata": {},
   "source": [
    "**Description**\n",
    "1. Looks each histogram/situation is skewed right for each condition. Further data processing is required before Task 5.\n",
    "2. Solution: I should transform the data before the analysis in Task 5, I am thinking with log. \n",
    "3. I also need to filter out low or zero expressed genes before move onto data analysis."
   ]
  },
  {
   "cell_type": "markdown",
   "id": "comparable-victoria",
   "metadata": {},
   "source": [
    "**Step 4:** I am curious to see the relationships across the entire data frames so I will try out a pair plot."
   ]
  },
  {
   "cell_type": "code",
   "execution_count": 12,
   "id": "spare-railway",
   "metadata": {},
   "outputs": [
    {
     "data": {
      "text/plain": [
       "<seaborn.axisgrid.PairGrid at 0x1693f4c27f0>"
      ]
     },
     "execution_count": 12,
     "metadata": {},
     "output_type": "execute_result"
    },
    {
     "data": {
      "image/png": "[encoded data removed]",
      "text/plain": [
       "<Figure size 540x540 with 12 Axes>"
      ]
     },
     "metadata": {
      "needs_background": "light"
     },
     "output_type": "display_data"
    }
   ],
   "source": [
    "import seaborn as sns\n",
    "\n",
    "sns.pairplot(df)"
   ]
  },
  {
   "cell_type": "markdown",
   "id": "liquid-discharge",
   "metadata": {},
   "source": [
    "**Description**\n",
    "1. Looks like there are some outliers that will need to be taken care of prior to further data analysis (note above). Perhaps this will be helped using log transformation.m\n",
    "2. Looks like there is no relation between stationary phase gene expression and media with ampicillin gene expression? Could be due to nontransformed data.\n",
    "3. Most data points reside near the origin. "
   ]
  },
  {
   "cell_type": "markdown",
   "id": "precise-yield",
   "metadata": {},
   "source": [
    "**Step 5:** Checking the coreelation "
   ]
  },
  {
   "cell_type": "code",
   "execution_count": 5,
   "id": "attractive-sector",
   "metadata": {},
   "outputs": [
    {
     "data": {
      "text/plain": [
       "<AxesSubplot:>"
      ]
     },
     "execution_count": 5,
     "metadata": {},
     "output_type": "execute_result"
    },
    {
     "data": {
      "image/png": "[encoded data removed]",
      "text/plain": [
       "<Figure size 432x288 with 2 Axes>"
      ]
     },
     "metadata": {
      "needs_background": "light"
     },
     "output_type": "display_data"
    }
   ],
   "source": [
    "corr = df.corr()\n",
    "sns.heatmap(corr, xticklabels=corr.columns, yticklabels=corr.columns, annot=True, cmap=sns.diverging_palette(220, 20, as_cmap=True))"
   ]
  },
  {
   "cell_type": "markdown",
   "id": "crude-printing",
   "metadata": {},
   "source": [
    "1. The correlation looks great with the values all equaling or nearing one!"
   ]
  },
  {
   "cell_type": "markdown",
   "id": "removable-turtle",
   "metadata": {},
   "source": [
    "**Conclusion** "
   ]
  },
  {
   "cell_type": "markdown",
   "id": "assisted-timber",
   "metadata": {},
   "source": [
    "Now I am ready to tackle data analysis with an idea of how to prepare the data for visualization in order to determine which genes are upregulated during ampicillin treatment in *E. coli*. \n",
    "But first I will need to remove the lowly expressed genes and log transform the data which I discovered by perfroming this EDA. "
   ]
  },
  {
   "cell_type": "code",
   "execution_count": null,
   "id": "floral-enhancement",
   "metadata": {},
   "outputs": [],
   "source": []
  }
 ],
 "metadata": {
  "kernelspec": {
   "display_name": "Python 3",
   "language": "python",
   "name": "python3"
  },
  "language_info": {
   "codemirror_mode": {
    "name": "ipython",
    "version": 3
   },
   "file_extension": ".py",
   "mimetype": "text/x-python",
   "name": "python",
   "nbconvert_exporter": "python",
   "pygments_lexer": "ipython3",
   "version": "3.8.5"
  }
 },
 "nbformat": 4,
 "nbformat_minor": 5
}
