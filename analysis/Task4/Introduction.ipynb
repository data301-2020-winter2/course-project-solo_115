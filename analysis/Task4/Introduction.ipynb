{
 "cells": [
  {
   "cell_type": "markdown",
   "id": "opened-border",
   "metadata": {},
   "source": [
    "## Introduction "
   ]
  },
  {
   "cell_type": "markdown",
   "id": "unavailable-simpson",
   "metadata": {},
   "source": [
    "The following analysis (Task_4_EDA.ipynb) was conducted in Jupyter Lab with Python 3. The intent of this analysis is to explore the datatset of varying gene expression levels in *E. coli* primarily regarding the gene response to ampicillin treatment compared to control levels at stationary and growth phases. Researchers H. S. Deter and N. C. Butzin at the South Dakota State University used RNA sequencing to detect gene expression levels under three conditions or phases in *E. coli* including the stationary phase where the population size of *E. coli* remain constant, the growth phase where *E. coli* numbers are increasing, and lastly under ampicillin (antibiotic) treatment. This was done in triplicate and measurements were taken three hours post treatment then the data was cleaned by me for this Data 301 project. The explorations to be conducted include general descriptive statistics, distribution plotting, and generally looking at some plots. The goal is to discover if any more data cleaning is required before data analysis, to have a better visualization of my data, and verify the direction of my data analysis to answer my research question. My research question is what genes may be interesting to study when regarding antibiotic resistance that are either highly upregulated or downregulated genes during ampicillin treatment when compared to controls."
   ]
  },
  {
   "cell_type": "code",
   "execution_count": null,
   "id": "proud-shell",
   "metadata": {},
   "outputs": [],
   "source": []
  }
 ],
 "metadata": {
  "kernelspec": {
   "display_name": "Python 3",
   "language": "python",
   "name": "python3"
  },
  "language_info": {
   "codemirror_mode": {
    "name": "ipython",
    "version": 3
   },
   "file_extension": ".py",
   "mimetype": "text/x-python",
   "name": "python",
   "nbconvert_exporter": "python",
   "pygments_lexer": "ipython3",
   "version": "3.8.5"
  }
 },
 "nbformat": 4,
 "nbformat_minor": 5
}
