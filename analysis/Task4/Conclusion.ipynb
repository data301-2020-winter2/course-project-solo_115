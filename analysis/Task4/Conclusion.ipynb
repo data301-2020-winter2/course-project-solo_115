{
 "cells": [
  {
   "cell_type": "markdown",
   "id": "extreme-butler",
   "metadata": {},
   "source": [
    "## Conclusion ##"
   ]
  },
  {
   "cell_type": "markdown",
   "id": "exceptional-dakota",
   "metadata": {},
   "source": [
    "From my exploratory data analysis I discovered that I need to log transform the data and remove lowly expressed genes before moving onto data analysis in Task 5. This was determined by visualizing the data using a histogram which was skewed right for all three conditions - stationary phase, growth phase, and ampicillin treatment. Additional issues were found while visualizing using a pair plot likely for the same reasons. The correlation was excellent although with all values being close to one. Lastly, I found there were 4359 expression values with the highest expression levels found in the ampicillin treatment and lowest in the stationary phase.   "
   ]
  },
  {
   "cell_type": "code",
   "execution_count": null,
   "id": "fifty-upset",
   "metadata": {},
   "outputs": [],
   "source": []
  }
 ],
 "metadata": {
  "kernelspec": {
   "display_name": "Python 3",
   "language": "python",
   "name": "python3"
  },
  "language_info": {
   "codemirror_mode": {
    "name": "ipython",
    "version": 3
   },
   "file_extension": ".py",
   "mimetype": "text/x-python",
   "name": "python",
   "nbconvert_exporter": "python",
   "pygments_lexer": "ipython3",
   "version": "3.8.5"
  }
 },
 "nbformat": 4,
 "nbformat_minor": 5
}
