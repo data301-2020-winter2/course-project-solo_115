{
 "cells": [
  {
   "cell_type": "markdown",
   "id": "charged-cartridge",
   "metadata": {},
   "source": [
    "## Conclusion ##"
   ]
  },
  {
   "cell_type": "markdown",
   "id": "informal-pathology",
   "metadata": {},
   "source": [
    "For my data analysis I initially removed lowly expressed genes and log transformed the data followed by completion of a histogram, KDE plots, bar charts, pair plot, and scatter plots for the *E. coli* gene expression dataset. Throughout this I determined that Km, cfp, katG, ompA, and ahpF are the top upregulated genes and the least five expressed genes during ampicillin treatment are: yddY, ybcW, ykiC, yneL, and dicB. To answer my research question, what genes may be interesting to study when regarding antibiotic resistance that are either highly upregulated or downregulated genes during ampicillin treatment, I looked into these genes to understand their importance regarding antibiotic resistance.\n",
    "\n",
    "\n",
    "**Top 5 Upregulated Genes** \n",
    "\n",
    "\n",
    "1.  **Km** is a known resistance gene in that confers resistance to the antibiotic kanamycin. \n",
    "2.  **cfp** might be the cyan fluorescence protein researched user for visualizing specimens. \n",
    "3.  **katG** is the catalase-peroxidase enzyme which catalyzes the decomposition of hydrogen peroxide (common antimicrobial) to water and oxygen. \n",
    "4.  **ompA** is an outer membrane protein that maintains the position of the cell well peptidoglycan in ther periplasmic space which is important in resistance. Notably, the mechanism of action of Ampicillin affects cell wall synthesis [Link]( https://en.wikipedia.org/wiki/Ampicillin/sulbactam). \n",
    "5.  **ahpF** protects against DNA damaged caused by alkyl hydroperoxides a common biological peroxide that can cause spontaneous chemical reactions hence DNA damage. \n",
    "\n",
    "\n",
    "**5 Lowest Expressed Genes**\n",
    "\n",
    "\n",
    "6.  **yDDY** codes for an unknown protein which is found to be higher in the stationary phase than in the growth phase.\n",
    "7.  **ybcW** is another unknown protein. \n",
    "8.  **ykiC** is another uncharacterized protein but is located in the cellular membrane. \n",
    "9.  **yneL** is a transcriptional regulation gene. \n",
    "10.  **dicB** prevents *E. coli* division. \n",
    "\n",
    "\n",
    "**Sources** \n",
    "\n",
    "\n",
    "1. Berg, D. E. (2017). Julian Davies and the discovery of kanamycin resistance transposon Tn 5. The Journal of Antibiotics, 70(4), 339–346. Retrieved March 30, 2021, from [DOI]( https://doi.org/10.1038/ja.2016.120)\n",
    "2. Batchelor, E., Walthers, D., Kenney, L. J., & Goulian, M. (2005). The Escherichia coli CpxA-CpxR Envelope Stress Response System Regulates Expression of the Porins OmpF and OmpC. Journal of Bacteriology, 187(16), 5723–5731. Retrieved March 30, 2021, from [DOI]( https://doi.org/10.1128/JB.187.16.5723-5731.2005)\n",
    "3. KatG - Catalase-peroxidase—Escherichia coli (strain K12 / DH10B)—KatG gene & protein. (n.d.). Retrieved March 30, 2021, from [Uniprot](https://www.uniprot.org/uniprot/B1XBA8)\n",
    "4. Wang, Y. (2002). The Function of OmpA in Escherichia coli. Biochemical and Biophysical Research Communications, 292(2), 396–401. Retrieved March 30, 2021, from [DOI](https://doi.org/10.1006/bbrc.2002.6657)\n",
    "5. Seaver, L. C., & Imlay, J. A. (2001). Alkyl Hydroperoxide Reductase Is the Primary Scavenger of Endogenous Hydrogen Peroxide in Escherichia coli. Journal of Bacteriology, 183(24), 7173–7181. Retrieved March 30, 2021, from [DOI](https://doi.org/10.1128/JB.183.24.7173-7181.2001)\n",
    "6. VanOrsdel, C. E., Kelly, J. P., Burke, B. N., Lein, C. D., Oufiero, C. E., Sanchez, J. F., Wimmers, L. E., Hearn, D. J., Abuikhdair, F. J., Barnhart, K. R., Duley, M. L., Ernst, S. E. G., Kenerson, B. A., Serafin, A. J., & Hemm, M. R. (2018). Identifying New Small Proteins in Escherichia coli. PROTEOMICS, 18(10), 1700064. Retrieved March 30, 2021, from [DOI](https://doi.org/10.1002/pmic.201700064)\n",
    "7. YbcW - Uncharacterized protein YbcW precursor—Escherichia coli (strain K12)—YbcW gene & protein. (n.d.). Retrieved March 30, 2021, from [Uniprot](https://www.uniprot.org/uniprot/P64435)\n",
    "8. VanOrsdel, C. E., Kelly, J. P., Burke, B. N., Lein, C. D., Oufiero, C. E., Sanchez, J. F., Wimmers, L. E., Hearn, D. J., Abuikhdair, F. J., Barnhart, K. R., Duley, M. L., Ernst, S. E. G., Kenerson, B. A., Serafin, A. J., & Hemm, M. R. (2018). Identifying New Small Proteins in Escherichia coli. PROTEOMICS, 18(10), 1700064. Retrieved March 30, 2021, from [DOI](https://doi.org/10.1002/pmic.201700064)\n",
    "9. YneL - Transcriptional regulator—Escherichia coli—YneL gene & protein. (n.d.). Retrieved March 30, 2021, from [Uniport](https://www.uniprot.org/uniprot/A0A094XY77)\n",
    "10. Yang, S., Pei, H., Zhang, X., Wei, Q., Zhu, J., Zheng, J., & Jia, Z. (2016). Characterization of DicB by partially masking its potent inhibitory activity of cell division. Open Biology, 6(7), 160082. Retrieved March 30, 2021, from [DOI](https://doi.org/10.1098/rsob.160082)"
   ]
  },
  {
   "cell_type": "code",
   "execution_count": null,
   "id": "expired-antique",
   "metadata": {},
   "outputs": [],
   "source": []
  }
 ],
 "metadata": {
  "kernelspec": {
   "display_name": "Python 3",
   "language": "python",
   "name": "python3"
  },
  "language_info": {
   "codemirror_mode": {
    "name": "ipython",
    "version": 3
   },
   "file_extension": ".py",
   "mimetype": "text/x-python",
   "name": "python",
   "nbconvert_exporter": "python",
   "pygments_lexer": "ipython3",
   "version": "3.8.5"
  }
 },
 "nbformat": 4,
 "nbformat_minor": 5
}
