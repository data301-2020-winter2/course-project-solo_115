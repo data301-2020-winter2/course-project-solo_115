{
 "cells": [
  {
   "cell_type": "markdown",
   "id": "refined-empty",
   "metadata": {},
   "source": [
    "## Introduction ##"
   ]
  },
  {
   "cell_type": "markdown",
   "id": "worth-programming",
   "metadata": {},
   "source": [
    "The following analysis (Task_5_Aanalysis.ipynb) was conducted in Jupyter Lab with Python 3.\n",
    "The intent of this data analysis is to determine the upregulated and downregulated genes in *E. coli* during ampicillin treatment when compared to control conditions including the stationary phase and growth phase to address my research question. \n"
   ]
  }
 ],
 "metadata": {
  "kernelspec": {
   "display_name": "Python 3",
   "language": "python",
   "name": "python3"
  },
  "language_info": {
   "codemirror_mode": {
    "name": "ipython",
    "version": 3
   },
   "file_extension": ".py",
   "mimetype": "text/x-python",
   "name": "python",
   "nbconvert_exporter": "python",
   "pygments_lexer": "ipython3",
   "version": "3.8.5"
  }
 },
 "nbformat": 4,
 "nbformat_minor": 5
}
