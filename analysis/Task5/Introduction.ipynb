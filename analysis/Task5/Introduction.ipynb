{
 "cells": [
  {
   "cell_type": "markdown",
   "id": "cleared-disability",
   "metadata": {},
   "source": [
    "## Introduction ##"
   ]
  },
  {
   "cell_type": "markdown",
   "id": "human-allocation",
   "metadata": {},
   "source": [
    "The following analysis (Task_5_Aanalysis.ipynb) was conducted in Jupyter Lab with Python 3.\n",
    "The intent of this data analysis is to determine the upregulated and downregulated genes in *E. coli* during ampicillin treatment when compared to control conditions including the stationary phase where the population size of *E. coli* remains constant and the growth phase where *E. coli* numbers are increasing. RNA sequencing experiments were performed in triplicate and measurements were taken three hours post treatment. My research question is to determine what genes may be interesting to study when regarding antibiotic resistance that are either highly upregulated or downregulated genes during ampicillin treatment when compared to these controls. Before I perform this analysis visually using graphs and charts I must first log transform the data and remove lowly expressed genes. This was determined in the Task 4 exploratory data analysis. Thus, I will execute these actions followed by creating charts or graphs such as the bar chart and scatter plots to answer my research question stated above to complete this analysis."
   ]
  },
  {
   "cell_type": "code",
   "execution_count": null,
   "id": "outstanding-palestinian",
   "metadata": {},
   "outputs": [],
   "source": []
  }
 ],
 "metadata": {
  "kernelspec": {
   "display_name": "Python 3",
   "language": "python",
   "name": "python3"
  },
  "language_info": {
   "codemirror_mode": {
    "name": "ipython",
    "version": 3
   },
   "file_extension": ".py",
   "mimetype": "text/x-python",
   "name": "python",
   "nbconvert_exporter": "python",
   "pygments_lexer": "ipython3",
   "version": "3.8.5"
  }
 },
 "nbformat": 4,
 "nbformat_minor": 5
}
