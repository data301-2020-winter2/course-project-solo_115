{
 "cells": [
  {
   "cell_type": "code",
   "execution_count": 1,
   "id": "instructional-orlando",
   "metadata": {},
   "outputs": [
    {
     "data": {
      "text/html": [
       "<div>\n",
       "<style scoped>\n",
       "    .dataframe tbody tr th:only-of-type {\n",
       "        vertical-align: middle;\n",
       "    }\n",
       "\n",
       "    .dataframe tbody tr th {\n",
       "        vertical-align: top;\n",
       "    }\n",
       "\n",
       "    .dataframe thead th {\n",
       "        text-align: right;\n",
       "    }\n",
       "</style>\n",
       "<table border=\"1\" class=\"dataframe\">\n",
       "  <thead>\n",
       "    <tr style=\"text-align: right;\">\n",
       "      <th></th>\n",
       "      <th>Gene Name</th>\n",
       "      <th>Gene Symbol</th>\n",
       "      <th>Avg. Stationary Phase</th>\n",
       "      <th>Avg. Growth in Media (3h)</th>\n",
       "      <th>Avg. Media and Ampicillin (3h)</th>\n",
       "    </tr>\n",
       "  </thead>\n",
       "  <tbody>\n",
       "    <tr>\n",
       "      <th>0</th>\n",
       "      <td>Km CDS</td>\n",
       "      <td>Km</td>\n",
       "      <td>10034.666667</td>\n",
       "      <td>753163.000000</td>\n",
       "      <td>4.010489e+06</td>\n",
       "    </tr>\n",
       "    <tr>\n",
       "      <th>1</th>\n",
       "      <td>cfp CDS</td>\n",
       "      <td>cfp</td>\n",
       "      <td>4188.000000</td>\n",
       "      <td>149442.333333</td>\n",
       "      <td>1.227688e+06</td>\n",
       "    </tr>\n",
       "    <tr>\n",
       "      <th>1403</th>\n",
       "      <td>katG CDS</td>\n",
       "      <td>katG</td>\n",
       "      <td>391.666667</td>\n",
       "      <td>338160.833333</td>\n",
       "      <td>6.855638e+05</td>\n",
       "    </tr>\n",
       "    <tr>\n",
       "      <th>1896</th>\n",
       "      <td>ompA CDS</td>\n",
       "      <td>ompA</td>\n",
       "      <td>525.666667</td>\n",
       "      <td>170523.166667</td>\n",
       "      <td>3.269718e+05</td>\n",
       "    </tr>\n",
       "    <tr>\n",
       "      <th>69</th>\n",
       "      <td>ahpF CDS</td>\n",
       "      <td>ahpF</td>\n",
       "      <td>182.333333</td>\n",
       "      <td>194604.833333</td>\n",
       "      <td>2.945845e+05</td>\n",
       "    </tr>\n",
       "    <tr>\n",
       "      <th>...</th>\n",
       "      <td>...</td>\n",
       "      <td>...</td>\n",
       "      <td>...</td>\n",
       "      <td>...</td>\n",
       "      <td>...</td>\n",
       "    </tr>\n",
       "    <tr>\n",
       "      <th>4061</th>\n",
       "      <td>ykgV CDS</td>\n",
       "      <td>ykgV</td>\n",
       "      <td>0.000000</td>\n",
       "      <td>0.000000</td>\n",
       "      <td>0.000000e+00</td>\n",
       "    </tr>\n",
       "    <tr>\n",
       "      <th>4071</th>\n",
       "      <td>ylcG CDS</td>\n",
       "      <td>ylcG</td>\n",
       "      <td>0.000000</td>\n",
       "      <td>0.000000</td>\n",
       "      <td>0.000000e+00</td>\n",
       "    </tr>\n",
       "    <tr>\n",
       "      <th>4072</th>\n",
       "      <td>ylcH CDS</td>\n",
       "      <td>ylcH</td>\n",
       "      <td>0.000000</td>\n",
       "      <td>0.000000</td>\n",
       "      <td>0.000000e+00</td>\n",
       "    </tr>\n",
       "    <tr>\n",
       "      <th>3588</th>\n",
       "      <td>yffL CDS</td>\n",
       "      <td>yffL</td>\n",
       "      <td>0.000000</td>\n",
       "      <td>0.000000</td>\n",
       "      <td>0.000000e+00</td>\n",
       "    </tr>\n",
       "    <tr>\n",
       "      <th>2996</th>\n",
       "      <td>yagH CDS</td>\n",
       "      <td>yagH</td>\n",
       "      <td>0.000000</td>\n",
       "      <td>0.000000</td>\n",
       "      <td>0.000000e+00</td>\n",
       "    </tr>\n",
       "  </tbody>\n",
       "</table>\n",
       "<p>4359 rows × 5 columns</p>\n",
       "</div>"
      ],
      "text/plain": [
       "     Gene Name Gene Symbol  Avg. Stationary Phase  Avg. Growth in Media (3h)  \\\n",
       "0       Km CDS          Km           10034.666667              753163.000000   \n",
       "1      cfp CDS         cfp            4188.000000              149442.333333   \n",
       "1403  katG CDS        katG             391.666667              338160.833333   \n",
       "1896  ompA CDS        ompA             525.666667              170523.166667   \n",
       "69    ahpF CDS        ahpF             182.333333              194604.833333   \n",
       "...        ...         ...                    ...                        ...   \n",
       "4061  ykgV CDS        ykgV               0.000000                   0.000000   \n",
       "4071  ylcG CDS        ylcG               0.000000                   0.000000   \n",
       "4072  ylcH CDS        ylcH               0.000000                   0.000000   \n",
       "3588  yffL CDS        yffL               0.000000                   0.000000   \n",
       "2996  yagH CDS        yagH               0.000000                   0.000000   \n",
       "\n",
       "      Avg. Media and Ampicillin (3h)  \n",
       "0                       4.010489e+06  \n",
       "1                       1.227688e+06  \n",
       "1403                    6.855638e+05  \n",
       "1896                    3.269718e+05  \n",
       "69                      2.945845e+05  \n",
       "...                              ...  \n",
       "4061                    0.000000e+00  \n",
       "4071                    0.000000e+00  \n",
       "4072                    0.000000e+00  \n",
       "3588                    0.000000e+00  \n",
       "2996                    0.000000e+00  \n",
       "\n",
       "[4359 rows x 5 columns]"
      ]
     },
     "execution_count": 1,
     "metadata": {},
     "output_type": "execute_result"
    }
   ],
   "source": [
    "#bringing in my cleaned data from Task 3\n",
    "import pandas as pd\n",
    "from scripts import project_functions\n",
    "data = pd.read_excel('scripts/data.xlsx')\n",
    "df = project_functions.load_and_process(data)\n",
    "df"
   ]
  },
  {
   "cell_type": "code",
   "execution_count": 27,
   "id": "civil-postage",
   "metadata": {},
   "outputs": [
    {
     "name": "stdout",
     "output_type": "stream",
     "text": [
      "<class 'pandas.core.frame.DataFrame'>\n",
      "Int64Index: 4359 entries, 0 to 2996\n",
      "Data columns (total 5 columns):\n",
      " #   Column                          Non-Null Count  Dtype  \n",
      "---  ------                          --------------  -----  \n",
      " 0   Gene Name                       4359 non-null   object \n",
      " 1   Gene Symbol                     4359 non-null   object \n",
      " 2   Avg. Stationary Phase           4359 non-null   float64\n",
      " 3   Avg. Growth in Media (3h)       4359 non-null   float64\n",
      " 4   Avg. Media and Ampicillin (3h)  4359 non-null   float64\n",
      "dtypes: float64(3), object(2)\n",
      "memory usage: 204.3+ KB\n"
     ]
    },
    {
     "data": {
      "text/html": [
       "<div>\n",
       "<style scoped>\n",
       "    .dataframe tbody tr th:only-of-type {\n",
       "        vertical-align: middle;\n",
       "    }\n",
       "\n",
       "    .dataframe tbody tr th {\n",
       "        vertical-align: top;\n",
       "    }\n",
       "\n",
       "    .dataframe thead th {\n",
       "        text-align: right;\n",
       "    }\n",
       "</style>\n",
       "<table border=\"1\" class=\"dataframe\">\n",
       "  <thead>\n",
       "    <tr style=\"text-align: right;\">\n",
       "      <th></th>\n",
       "      <th>Avg. Stationary Phase</th>\n",
       "      <th>Avg. Growth in Media (3h)</th>\n",
       "      <th>Avg. Media and Ampicillin (3h)</th>\n",
       "    </tr>\n",
       "  </thead>\n",
       "  <tbody>\n",
       "    <tr>\n",
       "      <th>count</th>\n",
       "      <td>4359.000000</td>\n",
       "      <td>4359.000000</td>\n",
       "      <td>4.359000e+03</td>\n",
       "    </tr>\n",
       "    <tr>\n",
       "      <th>mean</th>\n",
       "      <td>23.307714</td>\n",
       "      <td>3193.121513</td>\n",
       "      <td>5.759521e+03</td>\n",
       "    </tr>\n",
       "    <tr>\n",
       "      <th>std</th>\n",
       "      <td>183.156575</td>\n",
       "      <td>15537.988270</td>\n",
       "      <td>6.603072e+04</td>\n",
       "    </tr>\n",
       "    <tr>\n",
       "      <th>min</th>\n",
       "      <td>0.000000</td>\n",
       "      <td>0.000000</td>\n",
       "      <td>0.000000e+00</td>\n",
       "    </tr>\n",
       "    <tr>\n",
       "      <th>25%</th>\n",
       "      <td>3.666667</td>\n",
       "      <td>512.833333</td>\n",
       "      <td>4.785833e+02</td>\n",
       "    </tr>\n",
       "    <tr>\n",
       "      <th>50%</th>\n",
       "      <td>7.500000</td>\n",
       "      <td>1065.833333</td>\n",
       "      <td>1.106500e+03</td>\n",
       "    </tr>\n",
       "    <tr>\n",
       "      <th>75%</th>\n",
       "      <td>14.833333</td>\n",
       "      <td>2070.583333</td>\n",
       "      <td>2.768667e+03</td>\n",
       "    </tr>\n",
       "    <tr>\n",
       "      <th>max</th>\n",
       "      <td>10034.666667</td>\n",
       "      <td>753163.000000</td>\n",
       "      <td>4.010489e+06</td>\n",
       "    </tr>\n",
       "  </tbody>\n",
       "</table>\n",
       "</div>"
      ],
      "text/plain": [
       "       Avg. Stationary Phase  Avg. Growth in Media (3h)  \\\n",
       "count            4359.000000                4359.000000   \n",
       "mean               23.307714                3193.121513   \n",
       "std               183.156575               15537.988270   \n",
       "min                 0.000000                   0.000000   \n",
       "25%                 3.666667                 512.833333   \n",
       "50%                 7.500000                1065.833333   \n",
       "75%                14.833333                2070.583333   \n",
       "max             10034.666667              753163.000000   \n",
       "\n",
       "       Avg. Media and Ampicillin (3h)  \n",
       "count                    4.359000e+03  \n",
       "mean                     5.759521e+03  \n",
       "std                      6.603072e+04  \n",
       "min                      0.000000e+00  \n",
       "25%                      4.785833e+02  \n",
       "50%                      1.106500e+03  \n",
       "75%                      2.768667e+03  \n",
       "max                      4.010489e+06  "
      ]
     },
     "execution_count": 27,
     "metadata": {},
     "output_type": "execute_result"
    }
   ],
   "source": [
    "# EDA\n",
    "# checking general information - rows, columns, statistics etc. \n",
    "# i need to filter out low or zero expressed genes\n",
    "\n",
    "len(df. columns)\n",
    "len(df.index)\n",
    "\n",
    "df.info()\n",
    "df.describe()"
   ]
  },
  {
   "cell_type": "code",
   "execution_count": 17,
   "id": "downtown-powell",
   "metadata": {},
   "outputs": [
    {
     "data": {
      "text/plain": [
       "array([[<AxesSubplot:title={'center':'Avg. Stationary Phase'}>,\n",
       "        <AxesSubplot:title={'center':'Avg. Growth in Media (3h)'}>],\n",
       "       [<AxesSubplot:title={'center':'Avg. Media and Ampicillin (3h)'}>,\n",
       "        <AxesSubplot:>]], dtype=object)"
      ]
     },
     "execution_count": 17,
     "metadata": {},
     "output_type": "execute_result"
    },
    {
     "data": {
      "image/png": "[encoded data removed]",
      "text/plain": [
       "<Figure size 720x720 with 4 Axes>"
      ]
     },
     "metadata": {
      "needs_background": "light"
     },
     "output_type": "display_data"
    }
   ],
   "source": [
    "# visualizing the data with a histogram\n",
    "hist = df.hist(bins=5,figsize =(10,10))\n",
    "hist\n",
    "# looks like this histogram is skewed right\n",
    "# i should transform the data before analysis, i am thinking with log "
   ]
  },
  {
   "cell_type": "code",
   "execution_count": 24,
   "id": "worldwide-province",
   "metadata": {},
   "outputs": [
    {
     "data": {
      "text/plain": [
       "<AxesSubplot:>"
      ]
     },
     "execution_count": 24,
     "metadata": {},
     "output_type": "execute_result"
    },
    {
     "data": {
      "image/png": "[encoded data removed]",
      "text/plain": [
       "<Figure size 432x288 with 2 Axes>"
      ]
     },
     "metadata": {
      "needs_background": "light"
     },
     "output_type": "display_data"
    }
   ],
   "source": [
    "import seaborn as sns\n",
    "\n",
    "# looking at correlation\n",
    "corr = df.corr()# plot the heatmap\n",
    "sns.heatmap(corr, xticklabels=corr.columns, yticklabels=corr.columns, annot=True, cmap=sns.diverging_palette(220, 20, as_cmap=True))"
   ]
  },
  {
   "cell_type": "code",
   "execution_count": null,
   "id": "ultimate-story",
   "metadata": {},
   "outputs": [],
   "source": [
    "# ready to tackle data analysis with an idea of how to prepare the data for visualization and study"
   ]
  }
 ],
 "metadata": {
  "kernelspec": {
   "display_name": "Python 3",
   "language": "python",
   "name": "python3"
  },
  "language_info": {
   "codemirror_mode": {
    "name": "ipython",
    "version": 3
   },
   "file_extension": ".py",
   "mimetype": "text/x-python",
   "name": "python",
   "nbconvert_exporter": "python",
   "pygments_lexer": "ipython3",
   "version": "3.8.5"
  }
 },
 "nbformat": 4,
 "nbformat_minor": 5
}
